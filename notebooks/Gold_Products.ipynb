{
 "cells": [
  {
   "cell_type": "code",
   "execution_count": 0,
   "metadata": {
    "application/vnd.databricks.v1+cell": {
     "cellMetadata": {
      "byteLimit": 2048000,
      "rowLimit": 10000
     },
     "inputWidgets": {},
     "nuid": "79c6a429-668d-4f8c-8b16-f7dc6c3bebec",
     "showTitle": false,
     "tableResultSettingsMap": {},
     "title": ""
    }
   },
   "outputs": [],
   "source": [
    "from pyspark.sql.functions import col, lit, current_timestamp, monotonically_increasing_id, row_number, max as max_\n",
    "from pyspark.sql.window import Window\n",
    "from delta.tables import DeltaTable\n",
    "\n",
    "silver_table = \"databricks_cata.silver.products_silver\"\n",
    "gold_table = \"databricks_cata.gold.DimProducts\"\n",
    "gold_path = \"abfss://gold@ayaneteprojstor.dfs.core.windows.net/DimProducts\""
   ]
  },
  {
   "cell_type": "markdown",
   "metadata": {
    "application/vnd.databricks.v1+cell": {
     "cellMetadata": {
      "byteLimit": 2048000,
      "rowLimit": 10000
     },
     "inputWidgets": {},
     "nuid": "4f035008-1074-4d1e-8c81-676de2cbc0eb",
     "showTitle": false,
     "tableResultSettingsMap": {},
     "title": ""
    }
   },
   "source": [
    "### **Data Reading, Cleaning and Quality Assignment**"
   ]
  },
  {
   "cell_type": "code",
   "execution_count": 0,
   "metadata": {
    "application/vnd.databricks.v1+cell": {
     "cellMetadata": {
      "byteLimit": 2048000,
      "rowLimit": 10000
     },
     "inputWidgets": {},
     "nuid": "30145b6b-cb8a-44f6-b6af-7f401a356cd9",
     "showTitle": false,
     "tableResultSettingsMap": {},
     "title": ""
    }
   },
   "outputs": [],
   "source": [
    "source_df = spark.read.table(silver_table)\n",
    "\n",
    "clean_source_df = source_df.filter(\n",
    "    (col(\"product_id\").isNotNull()) & (col(\"product_name\").isNotNull())\n",
    ")\n",
    "\n",
    "updates_df = clean_source_df.withColumn(\"processing_time\", current_timestamp())"
   ]
  },
  {
   "cell_type": "markdown",
   "metadata": {
    "application/vnd.databricks.v1+cell": {
     "cellMetadata": {
      "byteLimit": 2048000,
      "rowLimit": 10000
     },
     "inputWidgets": {},
     "nuid": "6c21900b-6f39-4608-b63f-53e8068549b2",
     "showTitle": false,
     "tableResultSettingsMap": {},
     "title": ""
    }
   },
   "source": [
    "### **SCD Type 2 Merge Operation**"
   ]
  },
  {
   "cell_type": "code",
   "execution_count": 0,
   "metadata": {
    "application/vnd.databricks.v1+cell": {
     "cellMetadata": {
      "byteLimit": 2048000,
      "rowLimit": 10000
     },
     "inputWidgets": {},
     "nuid": "36a08644-8e63-41af-9449-7b92a0815e2f",
     "showTitle": false,
     "tableResultSettingsMap": {},
     "title": ""
    }
   },
   "outputs": [],
   "source": [
    "table_exists = spark.catalog.tableExists(gold_table)\n",
    "\n",
    "if not table_exists:\n",
    "    print(f\"Table {gold_table} does not exist. Creating it for the first time.\")\n",
    "    \n",
    "    initial_df = updates_df.withColumn(\"DimProductKey\", monotonically_increasing_id()) \\\n",
    "                           .withColumn(\"__CURRENT_FLAG\", lit(True)) \\\n",
    "                           .withColumn(\"__START_AT\", col(\"processing_time\")) \\\n",
    "                           .withColumn(\"__END_AT\", lit(None).cast(\"timestamp\"))\n",
    "\n",
    "    initial_df.select(\n",
    "        \"DimProductKey\",\n",
    "        \"product_id\", \n",
    "        \"product_name\",\n",
    "        \"category\",\n",
    "        \"brand\",\n",
    "        \"price\",\n",
    "        \"discounted_price\", \n",
    "        \"__CURRENT_FLAG\", \n",
    "        \"__START_AT\", \n",
    "        \"__END_AT\"\n",
    "    ).write.format(\"delta\").option(\"path\", gold_path).saveAsTable(gold_table)\n",
    "    \n",
    "else:\n",
    "    print(f\"Table {gold_table} exists. Applying changes.\")\n",
    "    \n",
    "    target_table = DeltaTable.forName(spark, gold_table)\n",
    "    target_df = target_table.toDF()\n",
    "\n",
    "    max_key = target_df.select(max_(\"DimProductKey\")).collect()[0][0]\n",
    "\n",
    "    target_table.alias(\"target\").merge(\n",
    "        source=updates_df.alias(\"source\"),\n",
    "        condition=\"target.product_id = source.product_id\"\n",
    "    ) \\\n",
    "    .whenMatchedUpdate(\n",
    "        condition=\"target.__CURRENT_FLAG = true AND target.product_name <> source.product_name\",\n",
    "        set={\n",
    "            \"__CURRENT_FLAG\": \"false\",\n",
    "            \"__END_AT\": \"source.processing_time\"\n",
    "        }\n",
    "    ) \\\n",
    "    .execute()\n",
    "\n",
    "    new_and_updated_records_df = updates_df.join(\n",
    "        target_df.where(\"__CURRENT_FLAG = true\"),\n",
    "        updates_df.product_id == target_df.product_id,\n",
    "        \"left_anti\"\n",
    "    )\n",
    "    \n",
    "    if not new_and_updated_records_df.isEmpty():\n",
    "        window = Window.orderBy(col(\"product_id\"))\n",
    "\n",
    "        records_to_insert = new_and_updated_records_df \\\n",
    "            .withColumn(\"rn\", row_number().over(window)) \\\n",
    "            .withColumn(\"DimProductKey\", col(\"rn\") + max_key) \\\n",
    "            .withColumn(\"__CURRENT_FLAG\", lit(True)) \\\n",
    "            .withColumn(\"__START_AT\", col(\"processing_time\")) \\\n",
    "            .withColumn(\"__END_AT\", lit(None).cast(\"timestamp\")) \\\n",
    "            .select(\"DimProductKey\", \"product_id\", \"product_name\", \"__CURRENT_FLAG\", \"__START_AT\", \"__END_AT\")\n",
    "        \n",
    "        records_to_insert.write.format(\"delta\").mode(\"append\").option(\"path\", gold_path).saveAsTable(gold_table)\n"
   ]
  }
 ],
 "metadata": {
  "application/vnd.databricks.v1+notebook": {
   "computePreferences": null,
   "dashboards": [],
   "environmentMetadata": {
    "base_environment": "",
    "environment_version": "2"
   },
   "inputWidgetPreferences": null,
   "language": "python",
   "notebookMetadata": {
    "pythonIndentUnit": 4
   },
   "notebookName": "Gold_Products",
   "widgets": {}
  },
  "language_info": {
   "name": "python"
  }
 },
 "nbformat": 4,
 "nbformat_minor": 0
}
